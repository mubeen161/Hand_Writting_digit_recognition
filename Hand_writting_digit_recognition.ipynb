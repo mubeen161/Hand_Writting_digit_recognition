{
  "cells": [
    {
      "cell_type": "code",
      "execution_count": 163,
      "metadata": {
        "id": "fYTYfnZv0pa9"
      },
      "outputs": [],
      "source": [
        "#importing the required libraries\n",
        "from tensorflow.keras.datasets import mnist\n",
        "from tensorflow.keras.models import Sequential\n",
        "from tensorflow.keras.layers import Conv2D\n",
        "from tensorflow.keras.layers import MaxPool2D\n",
        "from tensorflow.keras.layers import Flatten\n",
        "from tensorflow.keras.layers import Dropout\n",
        "from tensorflow.keras.layers import Dense"
      ]
    },
    {
      "cell_type": "code",
      "execution_count": 164,
      "metadata": {
        "id": "HVxqPaV-0qO2",
        "colab": {
          "base_uri": "https://localhost:8080/"
        },
        "outputId": "671ceeca-9683-4247-b132-a9c15680ea77"
      },
      "outputs": [
        {
          "output_type": "stream",
          "name": "stdout",
          "text": [
            "(60000, 28, 28, 1)\n",
            "(10000, 28, 28, 1)\n"
          ]
        }
      ],
      "source": [
        "#loading data\n",
        "(X_train,y_train) , (X_test,y_test)=mnist.load_data()\n",
        "#reshaping data\n",
        "X_train = X_train.reshape((X_train.shape[0], X_train.shape[1], X_train.shape[2], 1))\n",
        "X_test = X_test.reshape((X_test.shape[0],X_test.shape[1],X_test.shape[2],1)) \n",
        "#checking the shape after reshaping\n",
        "print(X_train.shape)\n",
        "print(X_test.shape)\n",
        "#normalizing the pixel values\n",
        "X_train=X_train/255\n",
        "X_test=X_test/255"
      ]
    },
    {
      "cell_type": "code",
      "execution_count": 165,
      "metadata": {
        "id": "idwWrdRI0vrE",
        "colab": {
          "base_uri": "https://localhost:8080/"
        },
        "outputId": "ece7c7e4-f0a9-45b3-bdbd-5f2f4477d676"
      },
      "outputs": [
        {
          "output_type": "stream",
          "name": "stdout",
          "text": [
            "Epoch 1/25\n",
            "1875/1875 [==============================] - 67s 35ms/step - loss: 0.1508 - accuracy: 0.9548\n",
            "Epoch 2/25\n",
            "1875/1875 [==============================] - 51s 27ms/step - loss: 0.0525 - accuracy: 0.9840\n",
            "Epoch 3/25\n",
            "1875/1875 [==============================] - 41s 22ms/step - loss: 0.0333 - accuracy: 0.9900\n",
            "Epoch 4/25\n",
            "1875/1875 [==============================] - 42s 22ms/step - loss: 0.0227 - accuracy: 0.9928\n",
            "Epoch 5/25\n",
            "1875/1875 [==============================] - 40s 22ms/step - loss: 0.0148 - accuracy: 0.9953\n",
            "Epoch 6/25\n",
            "1875/1875 [==============================] - 41s 22ms/step - loss: 0.0113 - accuracy: 0.9964\n",
            "Epoch 7/25\n",
            "1875/1875 [==============================] - 40s 22ms/step - loss: 0.0071 - accuracy: 0.9980\n",
            "Epoch 8/25\n",
            "1875/1875 [==============================] - 41s 22ms/step - loss: 0.0065 - accuracy: 0.9979\n",
            "Epoch 9/25\n",
            "1875/1875 [==============================] - 40s 21ms/step - loss: 0.0045 - accuracy: 0.9984\n",
            "Epoch 10/25\n",
            "1875/1875 [==============================] - 40s 21ms/step - loss: 0.0051 - accuracy: 0.9983\n",
            "Epoch 11/25\n",
            "1875/1875 [==============================] - 41s 22ms/step - loss: 0.0026 - accuracy: 0.9991\n",
            "Epoch 12/25\n",
            "1875/1875 [==============================] - 39s 21ms/step - loss: 0.0038 - accuracy: 0.9987\n",
            "Epoch 13/25\n",
            "1875/1875 [==============================] - 38s 20ms/step - loss: 0.0030 - accuracy: 0.9990\n",
            "Epoch 14/25\n",
            "1875/1875 [==============================] - 38s 20ms/step - loss: 0.0026 - accuracy: 0.9990\n",
            "Epoch 15/25\n",
            "1875/1875 [==============================] - 40s 21ms/step - loss: 0.0034 - accuracy: 0.9990\n",
            "Epoch 16/25\n",
            "1875/1875 [==============================] - 38s 20ms/step - loss: 0.0023 - accuracy: 0.9993\n",
            "Epoch 17/25\n",
            "1875/1875 [==============================] - 38s 20ms/step - loss: 0.0019 - accuracy: 0.9993\n",
            "Epoch 18/25\n",
            "1875/1875 [==============================] - 38s 20ms/step - loss: 0.0028 - accuracy: 0.9991\n",
            "Epoch 19/25\n",
            "1875/1875 [==============================] - 39s 21ms/step - loss: 0.0012 - accuracy: 0.9997\n",
            "Epoch 20/25\n",
            "1875/1875 [==============================] - 39s 21ms/step - loss: 0.0032 - accuracy: 0.9992\n",
            "Epoch 21/25\n",
            "1875/1875 [==============================] - 38s 20ms/step - loss: 0.0016 - accuracy: 0.9995\n",
            "Epoch 22/25\n",
            "1875/1875 [==============================] - 38s 20ms/step - loss: 0.0015 - accuracy: 0.9995\n",
            "Epoch 23/25\n",
            "1875/1875 [==============================] - 39s 21ms/step - loss: 0.0015 - accuracy: 0.9996\n",
            "Epoch 24/25\n",
            "1875/1875 [==============================] - 40s 21ms/step - loss: 0.0019 - accuracy: 0.9994\n",
            "Epoch 25/25\n",
            "1875/1875 [==============================] - 40s 21ms/step - loss: 0.0017 - accuracy: 0.9996\n"
          ]
        },
        {
          "output_type": "execute_result",
          "data": {
            "text/plain": [
              "<keras.callbacks.History at 0x7f67c528ab00>"
            ]
          },
          "metadata": {},
          "execution_count": 165
        }
      ],
      "source": [
        "#defining model\n",
        "model=Sequential()\n",
        "#adding convolution layer\n",
        "model.add(Conv2D(32,(3,3),activation='relu',input_shape=(28,28,1)))\n",
        "#adding pooling layer\n",
        "model.add(MaxPool2D(2,2))\n",
        "#adding fully connected layer\n",
        "model.add(Flatten())\n",
        "model.add(Dense(100,activation='relu'))\n",
        "#adding output layer\n",
        "model.add(Dense(10,activation='softmax'))\n",
        "#compiling the model\n",
        "model.compile(loss='sparse_categorical_crossentropy',optimizer='adam',metrics=['accuracy'])\n",
        "#fitting the model\n",
        "model.fit(X_train,y_train,epochs=25)"
      ]
    },
    {
      "cell_type": "code",
      "execution_count": 166,
      "metadata": {
        "id": "cUZ2__600yje",
        "colab": {
          "base_uri": "https://localhost:8080/"
        },
        "outputId": "85dd0705-e9d1-41d1-bf7b-982408590b55"
      },
      "outputs": [
        {
          "output_type": "stream",
          "name": "stdout",
          "text": [
            "313/313 [==============================] - 3s 10ms/step - loss: 0.0935 - accuracy: 0.9857\n"
          ]
        },
        {
          "output_type": "execute_result",
          "data": {
            "text/plain": [
              "[0.09348201006650925, 0.9857000112533569]"
            ]
          },
          "metadata": {},
          "execution_count": 166
        }
      ],
      "source": [
        "#evaluting the model\n",
        "model.evaluate(X_test,y_test)"
      ]
    },
    {
      "cell_type": "code",
      "execution_count": 167,
      "metadata": {
        "colab": {
          "base_uri": "https://localhost:8080/"
        },
        "id": "CbiNKQo52_rH",
        "outputId": "7279b0b3-2341-4f12-fe22-4aab91226da6"
      },
      "outputs": [
        {
          "output_type": "stream",
          "name": "stdout",
          "text": [
            "313/313 [==============================] - 2s 7ms/step\n"
          ]
        },
        {
          "output_type": "execute_result",
          "data": {
            "text/plain": [
              "array([[3.9037412e-21, 7.5407245e-20, 1.4784923e-20, ..., 9.9999994e-01,\n",
              "        2.4538836e-20, 1.9603783e-15],\n",
              "       [2.0848176e-20, 1.2113301e-15, 9.9999994e-01, ..., 8.4637767e-30,\n",
              "        2.4061648e-27, 6.9284267e-26],\n",
              "       [5.0437990e-16, 9.9999994e-01, 7.7377618e-14, ..., 8.1539165e-13,\n",
              "        3.1094729e-14, 6.4368568e-17],\n",
              "       ...,\n",
              "       [2.1770446e-32, 4.2148987e-22, 1.2448353e-27, ..., 5.1890038e-22,\n",
              "        7.4324553e-21, 8.9685388e-13],\n",
              "       [9.7508193e-30, 1.4149784e-23, 9.4933442e-38, ..., 3.9352280e-29,\n",
              "        6.0705665e-14, 2.7281322e-28],\n",
              "       [6.5441496e-28, 1.5474701e-32, 3.5290726e-24, ..., 1.1484289e-27,\n",
              "        9.7716062e-28, 6.5685029e-30]], dtype=float32)"
            ]
          },
          "metadata": {},
          "execution_count": 167
        }
      ],
      "source": [
        "model.predict(X_test)"
      ]
    },
    {
      "cell_type": "code",
      "source": [
        "model.save('mnist.h5')"
      ],
      "metadata": {
        "id": "dKB2NZxe47me"
      },
      "execution_count": 168,
      "outputs": []
    },
    {
      "cell_type": "code",
      "source": [
        "import cv2"
      ],
      "metadata": {
        "id": "yaM2fAbT6JxG"
      },
      "execution_count": 169,
      "outputs": []
    },
    {
      "cell_type": "code",
      "source": [
        "img=cv2.imread(\"/content/images.png\")"
      ],
      "metadata": {
        "id": "rfv76dFd9orq"
      },
      "execution_count": 170,
      "outputs": []
    },
    {
      "cell_type": "code",
      "source": [
        "import matplotlib.pyplot as plt\n",
        "plt.imshow(img)"
      ],
      "metadata": {
        "colab": {
          "base_uri": "https://localhost:8080/",
          "height": 452
        },
        "id": "YJwBmFfR_RTH",
        "outputId": "3140d870-93e9-4bcc-dafd-a53c9c9113bb"
      },
      "execution_count": 171,
      "outputs": [
        {
          "output_type": "execute_result",
          "data": {
            "text/plain": [
              "<matplotlib.image.AxesImage at 0x7f67c50e11e0>"
            ]
          },
          "metadata": {},
          "execution_count": 171
        },
        {
          "output_type": "display_data",
          "data": {
            "text/plain": [
              "<Figure size 640x480 with 1 Axes>"
            ],
            "image/png": "[encoded data removed]"
          },
          "metadata": {}
        }
      ]
    },
    {
      "cell_type": "code",
      "source": [
        "gray=cv2.cvtColor(img,cv2.COLOR_BGR2GRAY)"
      ],
      "metadata": {
        "id": "8IpPIDyUCwiv"
      },
      "execution_count": 172,
      "outputs": []
    },
    {
      "cell_type": "code",
      "source": [
        "rsz=cv2.resize(gray,(28,28),interpolation=cv2.INTER_AREA)"
      ],
      "metadata": {
        "id": "kdmxnkpKCc27"
      },
      "execution_count": 173,
      "outputs": []
    },
    {
      "cell_type": "code",
      "source": [
        "from tensorflow.keras.utils import normalize"
      ],
      "metadata": {
        "id": "X8XH8jqnDKKQ"
      },
      "execution_count": 174,
      "outputs": []
    },
    {
      "cell_type": "code",
      "source": [
        "newimg=normalize(rsz,axis=1)"
      ],
      "metadata": {
        "id": "QZJdAvsjC6_g"
      },
      "execution_count": 175,
      "outputs": []
    },
    {
      "cell_type": "code",
      "source": [
        "import numpy as np\n"
      ],
      "metadata": {
        "id": "QT9nxZs_EHU-"
      },
      "execution_count": 176,
      "outputs": []
    },
    {
      "cell_type": "code",
      "source": [
        "newimg=np.array(newimg).reshape(-1,28,28,1)"
      ],
      "metadata": {
        "id": "L25DNspzDR3Z"
      },
      "execution_count": 177,
      "outputs": []
    },
    {
      "cell_type": "code",
      "source": [
        "newimg.shape"
      ],
      "metadata": {
        "colab": {
          "base_uri": "https://localhost:8080/"
        },
        "id": "MjrIA3drEQER",
        "outputId": "932c7f70-7433-49fe-e305-908fbe97fdc2"
      },
      "execution_count": 178,
      "outputs": [
        {
          "output_type": "execute_result",
          "data": {
            "text/plain": [
              "(1, 28, 28, 1)"
            ]
          },
          "metadata": {},
          "execution_count": 178
        }
      ]
    },
    {
      "cell_type": "code",
      "source": [
        "predictions=model.predict(newimg)"
      ],
      "metadata": {
        "colab": {
          "base_uri": "https://localhost:8080/"
        },
        "id": "B98k9m__EzfA",
        "outputId": "21205611-d442-4b85-c282-c19a5b6f3a05"
      },
      "execution_count": 179,
      "outputs": [
        {
          "output_type": "stream",
          "name": "stdout",
          "text": [
            "1/1 [==============================] - 0s 25ms/step\n"
          ]
        }
      ]
    },
    {
      "cell_type": "code",
      "source": [
        "print(np.argmax(predictions))"
      ],
      "metadata": {
        "colab": {
          "base_uri": "https://localhost:8080/"
        },
        "id": "GxaFPmIJE7Ic",
        "outputId": "6a1f64ad-de2b-4dd9-d464-c1c1abb38780"
      },
      "execution_count": 180,
      "outputs": [
        {
          "output_type": "stream",
          "name": "stdout",
          "text": [
            "3\n"
          ]
        }
      ]
    },
    {
      "cell_type": "code",
      "source": [],
      "metadata": {
        "id": "9w4nBbZkFCMk"
      },
      "execution_count": 180,
      "outputs": []
    }
  ],
  "metadata": {
    "colab": {
      "provenance": []
    },
    "kernelspec": {
      "display_name": "Python 3 (ipykernel)",
      "language": "python",
      "name": "python3"
    },
    "language_info": {
      "codemirror_mode": {
        "name": "ipython",
        "version": 3
      },
      "file_extension": ".py",
      "mimetype": "text/x-python",
      "name": "python",
      "nbconvert_exporter": "python",
      "pygments_lexer": "ipython3",
      "version": "3.8.3"
    }
  },
  "nbformat": 4,
  "nbformat_minor": 0
}